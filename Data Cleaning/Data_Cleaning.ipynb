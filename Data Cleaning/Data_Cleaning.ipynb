{
  "nbformat": 4,
  "nbformat_minor": 0,
  "metadata": {
    "colab": {
      "provenance": []
    },
    "kernelspec": {
      "name": "python3",
      "display_name": "Python 3"
    },
    "language_info": {
      "name": "python"
    }
  },
  "cells": [
    {
      "cell_type": "code",
      "source": [
        "#Using google colab - importing resume.csv\n",
        "from google.colab import files\n",
        "uploaded = files.upload()"
      ],
      "metadata": {
        "colab": {
          "base_uri": "https://localhost:8080/",
          "height": 38
        },
        "id": "7bW2pT_M6KDI",
        "outputId": "6cbad98b-186c-49f6-cfe5-92f4f316e271"
      },
      "execution_count": 30,
      "outputs": [
        {
          "output_type": "display_data",
          "data": {
            "text/plain": [
              "<IPython.core.display.HTML object>"
            ],
            "text/html": [
              "\n",
              "     <input type=\"file\" id=\"files-a36f06c5-7131-4e4f-a1a5-e77ff11c096a\" name=\"files[]\" multiple disabled\n",
              "        style=\"border:none\" />\n",
              "     <output id=\"result-a36f06c5-7131-4e4f-a1a5-e77ff11c096a\">\n",
              "      Upload widget is only available when the cell has been executed in the\n",
              "      current browser session. Please rerun this cell to enable.\n",
              "      </output>\n",
              "      <script>// Copyright 2017 Google LLC\n",
              "//\n",
              "// Licensed under the Apache License, Version 2.0 (the \"License\");\n",
              "// you may not use this file except in compliance with the License.\n",
              "// You may obtain a copy of the License at\n",
              "//\n",
              "//      http://www.apache.org/licenses/LICENSE-2.0\n",
              "//\n",
              "// Unless required by applicable law or agreed to in writing, software\n",
              "// distributed under the License is distributed on an \"AS IS\" BASIS,\n",
              "// WITHOUT WARRANTIES OR CONDITIONS OF ANY KIND, either express or implied.\n",
              "// See the License for the specific language governing permissions and\n",
              "// limitations under the License.\n",
              "\n",
              "/**\n",
              " * @fileoverview Helpers for google.colab Python module.\n",
              " */\n",
              "(function(scope) {\n",
              "function span(text, styleAttributes = {}) {\n",
              "  const element = document.createElement('span');\n",
              "  element.textContent = text;\n",
              "  for (const key of Object.keys(styleAttributes)) {\n",
              "    element.style[key] = styleAttributes[key];\n",
              "  }\n",
              "  return element;\n",
              "}\n",
              "\n",
              "// Max number of bytes which will be uploaded at a time.\n",
              "const MAX_PAYLOAD_SIZE = 100 * 1024;\n",
              "\n",
              "function _uploadFiles(inputId, outputId) {\n",
              "  const steps = uploadFilesStep(inputId, outputId);\n",
              "  const outputElement = document.getElementById(outputId);\n",
              "  // Cache steps on the outputElement to make it available for the next call\n",
              "  // to uploadFilesContinue from Python.\n",
              "  outputElement.steps = steps;\n",
              "\n",
              "  return _uploadFilesContinue(outputId);\n",
              "}\n",
              "\n",
              "// This is roughly an async generator (not supported in the browser yet),\n",
              "// where there are multiple asynchronous steps and the Python side is going\n",
              "// to poll for completion of each step.\n",
              "// This uses a Promise to block the python side on completion of each step,\n",
              "// then passes the result of the previous step as the input to the next step.\n",
              "function _uploadFilesContinue(outputId) {\n",
              "  const outputElement = document.getElementById(outputId);\n",
              "  const steps = outputElement.steps;\n",
              "\n",
              "  const next = steps.next(outputElement.lastPromiseValue);\n",
              "  return Promise.resolve(next.value.promise).then((value) => {\n",
              "    // Cache the last promise value to make it available to the next\n",
              "    // step of the generator.\n",
              "    outputElement.lastPromiseValue = value;\n",
              "    return next.value.response;\n",
              "  });\n",
              "}\n",
              "\n",
              "/**\n",
              " * Generator function which is called between each async step of the upload\n",
              " * process.\n",
              " * @param {string} inputId Element ID of the input file picker element.\n",
              " * @param {string} outputId Element ID of the output display.\n",
              " * @return {!Iterable<!Object>} Iterable of next steps.\n",
              " */\n",
              "function* uploadFilesStep(inputId, outputId) {\n",
              "  const inputElement = document.getElementById(inputId);\n",
              "  inputElement.disabled = false;\n",
              "\n",
              "  const outputElement = document.getElementById(outputId);\n",
              "  outputElement.innerHTML = '';\n",
              "\n",
              "  const pickedPromise = new Promise((resolve) => {\n",
              "    inputElement.addEventListener('change', (e) => {\n",
              "      resolve(e.target.files);\n",
              "    });\n",
              "  });\n",
              "\n",
              "  const cancel = document.createElement('button');\n",
              "  inputElement.parentElement.appendChild(cancel);\n",
              "  cancel.textContent = 'Cancel upload';\n",
              "  const cancelPromise = new Promise((resolve) => {\n",
              "    cancel.onclick = () => {\n",
              "      resolve(null);\n",
              "    };\n",
              "  });\n",
              "\n",
              "  // Wait for the user to pick the files.\n",
              "  const files = yield {\n",
              "    promise: Promise.race([pickedPromise, cancelPromise]),\n",
              "    response: {\n",
              "      action: 'starting',\n",
              "    }\n",
              "  };\n",
              "\n",
              "  cancel.remove();\n",
              "\n",
              "  // Disable the input element since further picks are not allowed.\n",
              "  inputElement.disabled = true;\n",
              "\n",
              "  if (!files) {\n",
              "    return {\n",
              "      response: {\n",
              "        action: 'complete',\n",
              "      }\n",
              "    };\n",
              "  }\n",
              "\n",
              "  for (const file of files) {\n",
              "    const li = document.createElement('li');\n",
              "    li.append(span(file.name, {fontWeight: 'bold'}));\n",
              "    li.append(span(\n",
              "        `(${file.type || 'n/a'}) - ${file.size} bytes, ` +\n",
              "        `last modified: ${\n",
              "            file.lastModifiedDate ? file.lastModifiedDate.toLocaleDateString() :\n",
              "                                    'n/a'} - `));\n",
              "    const percent = span('0% done');\n",
              "    li.appendChild(percent);\n",
              "\n",
              "    outputElement.appendChild(li);\n",
              "\n",
              "    const fileDataPromise = new Promise((resolve) => {\n",
              "      const reader = new FileReader();\n",
              "      reader.onload = (e) => {\n",
              "        resolve(e.target.result);\n",
              "      };\n",
              "      reader.readAsArrayBuffer(file);\n",
              "    });\n",
              "    // Wait for the data to be ready.\n",
              "    let fileData = yield {\n",
              "      promise: fileDataPromise,\n",
              "      response: {\n",
              "        action: 'continue',\n",
              "      }\n",
              "    };\n",
              "\n",
              "    // Use a chunked sending to avoid message size limits. See b/62115660.\n",
              "    let position = 0;\n",
              "    do {\n",
              "      const length = Math.min(fileData.byteLength - position, MAX_PAYLOAD_SIZE);\n",
              "      const chunk = new Uint8Array(fileData, position, length);\n",
              "      position += length;\n",
              "\n",
              "      const base64 = btoa(String.fromCharCode.apply(null, chunk));\n",
              "      yield {\n",
              "        response: {\n",
              "          action: 'append',\n",
              "          file: file.name,\n",
              "          data: base64,\n",
              "        },\n",
              "      };\n",
              "\n",
              "      let percentDone = fileData.byteLength === 0 ?\n",
              "          100 :\n",
              "          Math.round((position / fileData.byteLength) * 100);\n",
              "      percent.textContent = `${percentDone}% done`;\n",
              "\n",
              "    } while (position < fileData.byteLength);\n",
              "  }\n",
              "\n",
              "  // All done.\n",
              "  yield {\n",
              "    response: {\n",
              "      action: 'complete',\n",
              "    }\n",
              "  };\n",
              "}\n",
              "\n",
              "scope.google = scope.google || {};\n",
              "scope.google.colab = scope.google.colab || {};\n",
              "scope.google.colab._files = {\n",
              "  _uploadFiles,\n",
              "  _uploadFilesContinue,\n",
              "};\n",
              "})(self);\n",
              "</script> "
            ]
          },
          "metadata": {}
        }
      ]
    },
    {
      "cell_type": "code",
      "source": [
        "import pandas as pd\n",
        "import re\n",
        "import string\n",
        "import nltk\n",
        "nltk.download('punkt_tab')\n",
        "nltk.download('stopwords')\n",
        "nltk.download('punkt')\n",
        "nltk.download('wordnet')\n",
        "from nltk.corpus import stopwords\n",
        "from nltk.stem import WordNetLemmatizer\n",
        "from nltk import pos_tag\n",
        "from nltk.tokenize import word_tokenize\n",
        "from sklearn.feature_extraction.text import CountVectorizer"
      ],
      "metadata": {
        "colab": {
          "base_uri": "https://localhost:8080/"
        },
        "id": "mpMj3KfTpz5b",
        "outputId": "484a889b-a05c-40e4-86ed-6f0dc2485926"
      },
      "execution_count": 31,
      "outputs": [
        {
          "output_type": "stream",
          "name": "stderr",
          "text": [
            "[nltk_data] Downloading package punkt_tab to /root/nltk_data...\n",
            "[nltk_data]   Package punkt_tab is already up-to-date!\n",
            "[nltk_data] Downloading package stopwords to /root/nltk_data...\n",
            "[nltk_data]   Package stopwords is already up-to-date!\n",
            "[nltk_data] Downloading package punkt to /root/nltk_data...\n",
            "[nltk_data]   Package punkt is already up-to-date!\n",
            "[nltk_data] Downloading package wordnet to /root/nltk_data...\n",
            "[nltk_data]   Package wordnet is already up-to-date!\n"
          ]
        }
      ]
    },
    {
      "cell_type": "code",
      "source": [
        "df = pd.read_csv('Resume.csv')\n",
        "df.head()\n",
        "df = df[['Resume_str', 'Category']].dropna()\n"
      ],
      "metadata": {
        "id": "img_18BrqrQ-"
      },
      "execution_count": 32,
      "outputs": []
    },
    {
      "cell_type": "code",
      "source": [
        "stop_words = set(stopwords.words('english'))\n",
        "lemmatizer = WordNetLemmatizer()\n",
        "\n",
        "\"\"\"\n",
        "this cleans the text by removing junk like HTML, emails,\n",
        "and stopwords\n",
        "\"\"\"\n",
        "def clean_text(text):\n",
        "    text = str(text)\n",
        "    text = re.sub(r'<.*?>', '', text)\n",
        "    text = re.sub(r'http\\S+|www\\S+|https\\S+', '', text)\n",
        "    text = re.sub(r'\\S+@\\S+', '', text)\n",
        "    text = re.sub(r'\\d+', '', text)\n",
        "    text = text.translate(str.maketrans('', '', string.punctuation))\n",
        "    tokens = nltk.word_tokenize(text.lower())\n",
        "    tokens = [lemmatizer.lemmatize(token) for token in tokens if token not in stop_words and len(token) > 2]\n",
        "    return ' '.join(tokens)\n",
        "\n",
        "\"\"\"\n",
        "THis pulls out wordswords like skills and\n",
        "roles (nouns/adjectives) from the resume.\n",
        "\"\"\"\n",
        "def extract_keywords(text):\n",
        "    tokens = word_tokenize(text.lower())\n",
        "    tagged = pos_tag(tokens)\n",
        "    keywords = [word for word, tag in tagged if tag.startswith('NN') or tag.startswith('JJ')]\n",
        "    return ' '.join(keywords)\n",
        "\n",
        "# creates common 2–3 word phrases\n",
        "def generate_ngrams(text, ngram_range=(2,3)):\n",
        "    try:\n",
        "        vec = CountVectorizer(ngram_range=ngram_range, stop_words='english', max_features=50)\n",
        "        X = vec.fit_transform([text])\n",
        "        return ', '.join(vec.get_feature_names_out())\n",
        "    except:\n",
        "        return ''"
      ],
      "metadata": {
        "id": "YqTZw5isq96f"
      },
      "execution_count": 33,
      "outputs": []
    },
    {
      "cell_type": "code",
      "source": [
        "df['Cleaned_Resume'] = df['Resume_str'].apply(clean_text)\n",
        "df['Lower_Only'] = df['Resume_str'].str.lower()\n",
        "df['Skill_NGrams'] = df['Cleaned_Resume'].apply(generate_ngrams)\n",
        "df['Resume_Length'] = df['Cleaned_Resume'].apply(lambda x: len(x.split()))\n",
        "df[['Resume_str', 'Cleaned_Resume']].head(5)\n",
        "df.to_csv('Cleaned_Resume.csv', index=False)\n",
        "print(\"Cleaned the resume file.\")\n"
      ],
      "metadata": {
        "colab": {
          "base_uri": "https://localhost:8080/"
        },
        "id": "p-SkWqQKrHH-",
        "outputId": "792b444b-3f0c-4a54-8586-765293a306d6"
      },
      "execution_count": 34,
      "outputs": [
        {
          "output_type": "stream",
          "name": "stdout",
          "text": [
            "Cleaned the resume file.\n"
          ]
        }
      ]
    },
    {
      "cell_type": "code",
      "source": [
        "postings = pd.read_csv('postings.csv')\n",
        "cols_to_keep = ['job_id', 'title', 'description', 'min_salary', 'max_salary', 'pay_period', 'skills_desc', 'remote_allowed']\n",
        "postings = postings[cols_to_keep].dropna(subset=['title', 'description'])\n",
        "\n",
        "\n",
        "#Cleaning job titles, descriptions, and skills,\n",
        "def clean_text_basic(text):\n",
        "    if pd.isna(text):\n",
        "        return ''\n",
        "    text = str(text)\n",
        "    text = re.sub(r'<.*?>', '', text)\n",
        "    text = re.sub(r'[^\\w\\s]', '', text)\n",
        "    return text.strip().lower()\n",
        "\n",
        "postings['Cleaned_Title'] = postings['title'].apply(clean_text_basic)\n",
        "postings['Cleaned_Description'] = postings['description'].apply(clean_text_basic)\n",
        "postings['Job_Text'] = postings['Cleaned_Title'] + ' ' + postings['Cleaned_Description']\n",
        "postings['Cleaned_Skills'] = postings['skills_desc'].fillna('').apply(clean_text_basic)\n",
        "postings['Remote'] = postings['remote_allowed'].fillna(False).astype(int)\n",
        "\n",
        "# converted salaries to yearly format\n",
        "def to_yearly(row):\n",
        "    factor = {'Hourly': 2080, 'Monthly': 12, 'Yearly': 1}\n",
        "    pay = row['pay_period']\n",
        "    return (\n",
        "        row['min_salary'] * factor.get(pay, 1),\n",
        "        row['max_salary'] * factor.get(pay, 1)\n",
        "    )\n",
        "\n",
        "postings[['Normalized_Min_Salary', 'Normalized_Max_Salary']] = postings.apply(to_yearly, axis=1, result_type='expand')\n",
        "postings.to_csv('postings_cleaned.csv', index=False)\n",
        "print(\"Cleaned: postings_cleaned.csv\")\n"
      ],
      "metadata": {
        "colab": {
          "base_uri": "https://localhost:8080/"
        },
        "id": "nACytivOr8zd",
        "outputId": "ced1b813-2581-497e-cadb-9334ef240c7e"
      },
      "execution_count": 35,
      "outputs": [
        {
          "output_type": "stream",
          "name": "stdout",
          "text": [
            "Cleaned: postings_cleaned.csv\n"
          ]
        }
      ]
    },
    {
      "cell_type": "code",
      "source": [
        "# Adding the top 5 most common skills to each job\n",
        "job_skills = pd.read_csv('job_skills_cleaned.csv')\n",
        "\n",
        "top_skills_per_job = job_skills.groupby('job_id')['skill_abr'] \\\n",
        "    .apply(lambda x: list(pd.Series(x).value_counts().head(5).index)) \\\n",
        "    .reset_index( name='Top_Skills')\n",
        "\n",
        "postings = pd.read_csv('postings_cleaned.csv')\n",
        "postings = postings.merge(top_skills_per_job, on='job_id', how='left')\n",
        "postings.to_csv('postings_enriched.csv', index=False)\n",
        "print(\"Saved: postings_enriched.csv with top 5 skills per job\")\n"
      ],
      "metadata": {
        "colab": {
          "base_uri": "https://localhost:8080/"
        },
        "id": "IJUJfxJazHA2",
        "outputId": "93f55aeb-54ec-440a-9a97-973b373584ea"
      },
      "execution_count": 46,
      "outputs": [
        {
          "output_type": "stream",
          "name": "stdout",
          "text": [
            "Saved: postings_enriched.csv with top 5 skills per job\n"
          ]
        }
      ]
    },
    {
      "cell_type": "code",
      "source": [
        "# Cleaned and standardized all skill names so they’re consistent\n",
        "skills = pd.read_csv('skills.csv').dropna().drop_duplicates()\n",
        "skills.columns = [col.strip().lower() for col in skills.columns]\n",
        "skills = skills.applymap(lambda x: clean_text_basic(x) if isinstance(x, str) else x)\n",
        "skills.to_csv('skills_cleaned.csv', index=False)\n",
        "print(\"Cleaned: skills_cleaned.csv\")\n"
      ],
      "metadata": {
        "colab": {
          "base_uri": "https://localhost:8080/"
        },
        "id": "3Kig1Gn3rJLl",
        "outputId": "90bbdda6-acae-486f-b379-e7d6cc8b2fa2"
      },
      "execution_count": 36,
      "outputs": [
        {
          "output_type": "stream",
          "name": "stdout",
          "text": [
            "Cleaned: skills_cleaned.csv\n"
          ]
        },
        {
          "output_type": "stream",
          "name": "stderr",
          "text": [
            "/tmp/ipython-input-36-4162803854.py:3: FutureWarning: DataFrame.applymap has been deprecated. Use DataFrame.map instead.\n",
            "  skills = skills.applymap(lambda x: clean_text_basic(x) if isinstance(x, str) else x)\n"
          ]
        }
      ]
    },
    {
      "cell_type": "code",
      "source": [
        "# cleaned job-skill mappings to keep only valid, readable skills so we can link jobs to the right skill sets.\n",
        "job_skills = pd.read_csv('job_skills.csv').drop_duplicates()\n",
        "job_skills.columns = [col.strip().lower() for col in job_skills.columns]\n",
        "job_skills = job_skills[job_skills['skill_abr'].notna() & job_skills['job_id'].notna()]\n",
        "job_skills['skill_abr'] = job_skills['skill_abr'].apply(clean_text_basic)\n",
        "\n",
        "job_skills.to_csv('job_skills_cleaned.csv', index=False)\n",
        "print(\"Cleaned: job_skills_cleaned.csv\")\n"
      ],
      "metadata": {
        "colab": {
          "base_uri": "https://localhost:8080/"
        },
        "id": "Q-0PKVsVvbyZ",
        "outputId": "b988e00f-136a-4488-804b-cc62766c6d26"
      },
      "execution_count": 37,
      "outputs": [
        {
          "output_type": "stream",
          "name": "stdout",
          "text": [
            "Cleaned: job_skills_cleaned.csv\n"
          ]
        }
      ]
    },
    {
      "cell_type": "code",
      "source": [
        "# Removed duplicates and fix formatting isses\n",
        "companies = pd.read_csv('companies.csv').drop_duplicates()\n",
        "companies.columns = [col.strip().lower() for col in companies.columns]\n",
        "if 'name' in companies.columns:\n",
        "    companies['name'] = companies['name'].apply(clean_text_basic)\n",
        "companies.to_csv('companies_cleaned.csv', index=False)\n",
        "print(\"Cleaned: companies_cleaned.csv\")"
      ],
      "metadata": {
        "colab": {
          "base_uri": "https://localhost:8080/"
        },
        "id": "Yb6taOIiveeD",
        "outputId": "d19d404b-d362-47e2-9733-e205f9d4c73f"
      },
      "execution_count": 38,
      "outputs": [
        {
          "output_type": "stream",
          "name": "stdout",
          "text": [
            "Cleaned: companies_cleaned.csv\n"
          ]
        }
      ]
    },
    {
      "cell_type": "code",
      "source": [
        "# standardized company-to-industry mappings so we can\n",
        "# accurately link companies to their sectors.\n",
        "ci = pd.read_csv('company_industries.csv').drop_duplicates()\n",
        "ci.columns = [col.strip().lower() for col in ci.columns]\n",
        "ci.to_csv('company_industries_cleaned.csv', index=False)\n",
        "print(\"Cleaned: company_industries_cleaned.csv\")"
      ],
      "metadata": {
        "colab": {
          "base_uri": "https://localhost:8080/"
        },
        "id": "YWfCRFtJvhLu",
        "outputId": "46fb1e0e-4fa7-480a-8c47-cd50a1091886"
      },
      "execution_count": 39,
      "outputs": [
        {
          "output_type": "stream",
          "name": "stdout",
          "text": [
            "Cleaned: company_industries_cleaned.csv\n"
          ]
        }
      ]
    },
    {
      "cell_type": "code",
      "source": [
        "cs = pd.read_csv('company_specialities.csv').drop_duplicates()\n",
        "cs.columns = [col.strip().lower() for col in cs.columns]\n",
        "cs.to_csv('company_specialities_cleaned.csv', index=False)\n",
        "print(\"Cleaned: company_specialities_cleaned.csv\")"
      ],
      "metadata": {
        "colab": {
          "base_uri": "https://localhost:8080/"
        },
        "id": "tVBXVTdGvjT4",
        "outputId": "4e9f3d2b-6cd5-4955-98e3-03da0256f657"
      },
      "execution_count": 40,
      "outputs": [
        {
          "output_type": "stream",
          "name": "stdout",
          "text": [
            "Cleaned: company_specialities_cleaned.csv\n"
          ]
        }
      ]
    },
    {
      "cell_type": "code",
      "source": [
        "# Cleaned employee count by removing duplicates and replacing missing values\n",
        "# so company size info is consistent.\n",
        "import numpy as np\n",
        "\n",
        "ec = pd.read_csv('employee_counts.csv')\n",
        "ec.columns = [col.strip().lower() for col in ec.columns]\n",
        "ec = ec.drop_duplicates()\n",
        "ec.replace({'-': np.nan, 'unknown': np.nan}, inplace=True)\n",
        "ec.to_csv('employee_counts_cleaned.csv', index=False)\n",
        "print(\"Cleaned: employee_counts_cleaned.csv\")\n"
      ],
      "metadata": {
        "colab": {
          "base_uri": "https://localhost:8080/"
        },
        "id": "Es9Io5l3vlrs",
        "outputId": "c1278b46-38d5-45f3-a8e1-8130e9dd1b22"
      },
      "execution_count": 41,
      "outputs": [
        {
          "output_type": "stream",
          "name": "stdout",
          "text": [
            "Cleaned: employee_counts_cleaned.csv\n"
          ]
        }
      ]
    },
    {
      "cell_type": "code",
      "source": [
        "industries = pd.read_csv('industries.csv').drop_duplicates()\n",
        "industries.columns = [col.strip().lower() for col in industries.columns]\n",
        "col = industries.columns[0]\n",
        "industries[col] = industries[col].map(clean_text_basic)\n",
        "industries.to_csv('industries_cleaned.csv', index=False)\n",
        "print(\"Cleaned: industries_cleaned.csv\")\n"
      ],
      "metadata": {
        "colab": {
          "base_uri": "https://localhost:8080/"
        },
        "id": "09GBhcEBvo45",
        "outputId": "a4c79301-f4ad-49e5-f793-82bcfaf4504a"
      },
      "execution_count": 42,
      "outputs": [
        {
          "output_type": "stream",
          "name": "stdout",
          "text": [
            "Cleaned: industries_cleaned.csv\n"
          ]
        }
      ]
    },
    {
      "cell_type": "code",
      "source": [
        "ji = pd.read_csv('job_industries.csv').drop_duplicates()\n",
        "ji.columns = [col.strip().lower() for col in ji.columns]\n",
        "ji.to_csv('job_industries_cleaned.csv', index=False)\n",
        "print(\"Cleaned: job_industries_cleaned.csv\")"
      ],
      "metadata": {
        "colab": {
          "base_uri": "https://localhost:8080/"
        },
        "id": "SQvVBeaCvrcw",
        "outputId": "e8968e7d-b45a-4b19-b237-b62a5be1c095"
      },
      "execution_count": 43,
      "outputs": [
        {
          "output_type": "stream",
          "name": "stdout",
          "text": [
            "Cleaned: job_industries_cleaned.csv\n"
          ]
        }
      ]
    },
    {
      "cell_type": "code",
      "source": [
        "# Removed all the symbols and converted them to just numbers\n",
        "salaries = pd.read_csv('salaries.csv')\n",
        "salaries.columns = [col.strip().lower() for col in salaries.columns]\n",
        "salaries = salaries.replace({'\\$': '', ',': ''}, regex=True)\n",
        "for col in ['min_salary', 'max_salary', 'median_salary']:\n",
        "    if col in salaries.columns:\n",
        "        salaries[col] = pd.to_numeric(salaries[col], errors='coerce')\n",
        "salaries.to_csv('salaries_cleaned.csv', index=False)\n",
        "print(\"Cleaned: salaries_cleaned.csv\")"
      ],
      "metadata": {
        "colab": {
          "base_uri": "https://localhost:8080/"
        },
        "id": "DF3NAWi5vtaP",
        "outputId": "ae6e8553-a9f9-4e85-91ed-5512248d973d"
      },
      "execution_count": 50,
      "outputs": [
        {
          "output_type": "stream",
          "name": "stdout",
          "text": [
            "Cleaned: salaries_cleaned.csv\n"
          ]
        }
      ]
    },
    {
      "cell_type": "code",
      "source": [
        "# deduplicated benefit names so we can clearly identify what each job offers\n",
        "benefits = pd.read_csv('benefits.csv')\n",
        "benefits.columns = [col.strip().lower() for col in benefits.columns]\n",
        "if 'benefit_name' in benefits.columns:\n",
        "    benefits['benefit_name'] = benefits['benefit_name'].apply(clean_text_basic)\n",
        "benefits = benefits.drop_duplicates()\n",
        "benefits.to_csv('benefits_cleaned.csv', index=False)\n",
        "print(\"Cleaned: benefits_cleaned.csv\")"
      ],
      "metadata": {
        "colab": {
          "base_uri": "https://localhost:8080/"
        },
        "id": "3pWz_yYfvwbw",
        "outputId": "5a74d521-53c2-43e1-f78d-38ebb17674cb"
      },
      "execution_count": 45,
      "outputs": [
        {
          "output_type": "stream",
          "name": "stdout",
          "text": [
            "Cleaned: benefits_cleaned.csv\n"
          ]
        }
      ]
    },
    {
      "cell_type": "code",
      "source": [
        "import os\n",
        "import shutil\n",
        "from glob import glob\n",
        "\n",
        "output_folder = 'All_Cleaned_Files'\n",
        "if not os.path.exists(output_folder):\n",
        "    os.makedirs(output_folder)\n",
        "cleaned_files = glob('*.csv')\n",
        "keywords = ['cleaned', 'enriched', 'Resume_Labeled.csv', 'Master_Job_Index.csv']\n",
        "\n",
        "for file in cleaned_files:\n",
        "    if any(keyword in file for keyword in keywords):\n",
        "        shutil.copy(file, os.path.join(output_folder, file))\n",
        "\n",
        "# Everything’s formatted for direct use — just load and vectorize the cleaned CSVs.\n",
        "print(f\"All the files that was cleaned have been copied to the '{output_folder}' folder.\")"
      ],
      "metadata": {
        "colab": {
          "base_uri": "https://localhost:8080/"
        },
        "id": "UT4EgItP0RTV",
        "outputId": "1d082e44-d9a3-4ae8-afdd-dedd26a6f002"
      },
      "execution_count": 49,
      "outputs": [
        {
          "output_type": "stream",
          "name": "stdout",
          "text": [
            "All the files that was cleaned have been copied to the 'All_Cleaned_Files' folder.\n"
          ]
        }
      ]
    }
  ]
}