{
  "cells": [
    {
      "cell_type": "markdown",
      "id": "c23f9f7e-0fc4-4a76-a3cb-314873829e2f",
      "metadata": {
        "id": "c23f9f7e-0fc4-4a76-a3cb-314873829e2f"
      },
      "source": [
        "### Evaluation & Metrics\n",
        "\n",
        "This notebook evaluates the performance of two main tasks in our NLP pipeline:\n",
        "1. **Resume Classification** (Supervised Learning)\n",
        "2. **Job Matching** (Unsupervised Similarity)\n",
        "\n",
        "We assess classification accuracy, precision, recall, F1-score, and cosine similarity for matching relevance.\n"
      ]
    },
    {
      "cell_type": "code",
      "source": [
        "from google.colab import drive\n",
        "drive.mount('/content/drive')"
      ],
      "metadata": {
        "colab": {
          "base_uri": "https://localhost:8080/"
        },
        "id": "ZwceqonDQXiG",
        "outputId": "5a24c858-67fc-4215-8a8b-ebe381d92a0a"
      },
      "id": "ZwceqonDQXiG",
      "execution_count": null,
      "outputs": [
        {
          "output_type": "stream",
          "name": "stdout",
          "text": [
            "Drive already mounted at /content/drive; to attempt to forcibly remount, call drive.mount(\"/content/drive\", force_remount=True).\n"
          ]
        }
      ]
    },
    {
      "cell_type": "code",
      "execution_count": null,
      "id": "996ab8b1-13ef-426c-8aff-4b09bfb0b916",
      "metadata": {
        "id": "996ab8b1-13ef-426c-8aff-4b09bfb0b916"
      },
      "outputs": [],
      "source": [
        "import pandas as pd\n",
        "from sklearn.feature_extraction.text import CountVectorizer, TfidfVectorizer\n",
        "from sklearn.metrics.pairwise import cosine_similarity\n",
        "import numpy as np\n",
        "import pandas as pd\n",
        "from sklearn.model_selection import train_test_split\n",
        "from sklearn.svm import LinearSVC\n",
        "from sklearn.metrics import accuracy_score, classification_report, confusion_matrix, ConfusionMatrixDisplay\n",
        "import matplotlib.pyplot as plt"
      ]
    },
    {
      "cell_type": "markdown",
      "id": "de13e0db-2309-4adc-b565-c90dca42a07c",
      "metadata": {
        "id": "de13e0db-2309-4adc-b565-c90dca42a07c"
      },
      "source": [
        "#### **Resume Classification – Supervised Learning**\n",
        "\n",
        "- We aim to classify resumes into predefined categories such as HR, Engineering, IT, etc. using a machine learning pipeline with TF-IDF and LinearSVC.\n",
        "\n",
        "- The goal is to evaluate how well our classifier distinguishes between job domains based on resume content.\n",
        "\n",
        "##### **Data Prep & TF-IDF:**"
      ]
    },
    {
      "cell_type": "code",
      "execution_count": null,
      "id": "51a3b08e-a096-492c-93e8-8a5a6e182560",
      "metadata": {
        "id": "51a3b08e-a096-492c-93e8-8a5a6e182560"
      },
      "outputs": [],
      "source": [
        "#Loading the data\n",
        "resumes_df = pd.read_csv(\"/content/drive/MyDrive/IE7500 Project - Cleaned Data/Cleaned_Resume.csv\")\n",
        "X = resumes_df[\"Cleaned_Resume\"].fillna(\"\")\n",
        "y = resumes_df[\"Category\"]"
      ]
    },
    {
      "cell_type": "code",
      "execution_count": null,
      "id": "61ab70c1-db7d-42aa-abf4-be5b7c1bf45f",
      "metadata": {
        "id": "61ab70c1-db7d-42aa-abf4-be5b7c1bf45f"
      },
      "outputs": [],
      "source": [
        "X_train, X_test, y_train, y_test = train_test_split(X, y, test_size=0.2, random_state=42)"
      ]
    },
    {
      "cell_type": "code",
      "execution_count": null,
      "id": "d7c074a0-80c9-4c77-a408-1665eaa76e41",
      "metadata": {
        "id": "d7c074a0-80c9-4c77-a408-1665eaa76e41"
      },
      "outputs": [],
      "source": [
        "tfidf = TfidfVectorizer(max_features=10000, ngram_range=(1, 2), stop_words='english')\n",
        "X_train_tfidf = tfidf.fit_transform(X_train)\n",
        "X_test_tfidf = tfidf.transform(X_test)"
      ]
    },
    {
      "cell_type": "markdown",
      "id": "225cd196-e027-4617-acb9-b17ee3d9fad1",
      "metadata": {
        "id": "225cd196-e027-4617-acb9-b17ee3d9fad1"
      },
      "source": [
        "##### **Model Training & Evaluation:**\n",
        "\n",
        "- We train a Linear Support Vector Classifier (LinearSVC) using the TF-IDF features. We then evaluate the model using standard classification metrics."
      ]
    },
    {
      "cell_type": "markdown",
      "id": "066fc2a0-b495-4054-9c30-8dd7bb041bc5",
      "metadata": {
        "id": "066fc2a0-b495-4054-9c30-8dd7bb041bc5"
      },
      "source": [
        "##### **Model Fit & Metrics:**"
      ]
    },
    {
      "cell_type": "code",
      "execution_count": null,
      "id": "2683a3fc-d1e5-4689-bd12-9c9cf5cec748",
      "metadata": {
        "id": "2683a3fc-d1e5-4689-bd12-9c9cf5cec748"
      },
      "outputs": [],
      "source": [
        "clf = LinearSVC(C=1.0)\n",
        "clf.fit(X_train_tfidf, y_train)\n",
        "y_pred = clf.predict(X_test_tfidf)"
      ]
    },
    {
      "cell_type": "code",
      "execution_count": null,
      "id": "135b0b59-1388-4257-93b0-a9efc9e7f076",
      "metadata": {
        "colab": {
          "base_uri": "https://localhost:8080/"
        },
        "id": "135b0b59-1388-4257-93b0-a9efc9e7f076",
        "outputId": "b35a5cde-5506-466e-dc72-18950cddfab0"
      },
      "outputs": [
        {
          "output_type": "stream",
          "name": "stdout",
          "text": [
            "Resume Classification Results\n",
            "Accuracy: 71.63 %\n",
            "\n",
            "Classification Report:\n",
            "                        precision    recall  f1-score   support\n",
            "\n",
            "            ACCOUNTANT       0.87      0.90      0.88        29\n",
            "              ADVOCATE       0.61      0.73      0.67        30\n",
            "           AGRICULTURE       0.25      0.12      0.17         8\n",
            "               APPAREL       0.69      0.55      0.61        20\n",
            "                  ARTS       0.55      0.33      0.41        18\n",
            "            AUTOMOBILE       0.67      0.33      0.44         6\n",
            "              AVIATION       0.75      0.86      0.80        21\n",
            "               BANKING       0.80      0.70      0.74        23\n",
            "                   BPO       0.50      0.50      0.50         2\n",
            "  BUSINESS-DEVELOPMENT       0.96      0.81      0.88        27\n",
            "                  CHEF       0.89      0.71      0.79        24\n",
            "          CONSTRUCTION       0.88      0.82      0.85        34\n",
            "            CONSULTANT       0.57      0.40      0.47        20\n",
            "              DESIGNER       0.85      0.89      0.87        19\n",
            "         DIGITAL-MEDIA       0.95      0.76      0.84        25\n",
            "           ENGINEERING       0.58      0.71      0.64        21\n",
            "               FINANCE       0.63      0.63      0.63        19\n",
            "               FITNESS       0.86      0.63      0.73        19\n",
            "            HEALTHCARE       0.36      0.40      0.38        20\n",
            "                    HR       0.62      0.83      0.71        18\n",
            "INFORMATION-TECHNOLOGY       0.62      1.00      0.76        26\n",
            "      PUBLIC-RELATIONS       0.72      0.76      0.74        17\n",
            "                 SALES       0.77      0.83      0.80        29\n",
            "               TEACHER       0.63      0.77      0.69        22\n",
            "\n",
            "              accuracy                           0.72       497\n",
            "             macro avg       0.69      0.67      0.67       497\n",
            "          weighted avg       0.72      0.72      0.71       497\n",
            "\n"
          ]
        }
      ],
      "source": [
        "print(\"Resume Classification Results\")\n",
        "print(\"Accuracy:\", round(accuracy_score(y_test, y_pred) * 100, 2), \"%\")\n",
        "print(\"\\nClassification Report:\")\n",
        "print(classification_report(y_test, y_pred, zero_division=0))"
      ]
    },
    {
      "cell_type": "markdown",
      "id": "3899c9be-3562-4a26-86b1-51baf4a718c9",
      "metadata": {
        "id": "3899c9be-3562-4a26-86b1-51baf4a718c9"
      },
      "source": [
        "##### **Confusion Matrix:**\n",
        "\n",
        "- The confusion matrix gives a class-by-class breakdown of true vs predicted labels. This helps visualize which resume categories are being confused the most."
      ]
    },
    {
      "cell_type": "code",
      "execution_count": null,
      "id": "53f4721c-b9b0-46f9-a924-41882801d8a4",
      "metadata": {
        "colab": {
          "base_uri": "https://localhost:8080/",
          "height": 1000
        },
        "id": "53f4721c-b9b0-46f9-a924-41882801d8a4",
        "outputId": "83af3d5e-e082-404b-efd3-b58ddfd17a54"
      },
      "outputs": [
        {
          "output_type": "display_data",
          "data": {
            "text/plain": [
              "<Figure size 1400x1000 with 2 Axes>"
            ],
            "image/png": "[encoded data removed]"
          },
          "metadata": {}
        }
      ],
      "source": [
        "labels = sorted(list(set(y_test)))\n",
        "\n",
        "cm = confusion_matrix(y_test, y_pred, labels=labels)\n",
        "disp = ConfusionMatrixDisplay(confusion_matrix=cm, display_labels=labels)\n",
        "\n",
        "fig, ax = plt.subplots(figsize=(14, 10))  # Wider figure\n",
        "disp.plot(ax=ax, cmap=\"Blues\", colorbar=True)\n",
        "\n",
        "# Improve readability\n",
        "plt.xticks(rotation=45, ha='right')  # Rotate and align x-axis labels\n",
        "plt.yticks(rotation=0)\n",
        "plt.title(\"Confusion Matrix for Resume Classification\")\n",
        "plt.tight_layout()\n",
        "plt.grid(False)\n",
        "plt.show()"
      ]
    },
    {
      "cell_type": "markdown",
      "id": "7c60c46e-3c5e-4e1f-9860-5f4c6842f8fd",
      "metadata": {
        "id": "7c60c46e-3c5e-4e1f-9860-5f4c6842f8fd"
      },
      "source": [
        "#### **Job Matching – Evaluation & Metrics (Unsupervised Cosine Similarity)**\n",
        "\n",
        "- This task matches resumes to job postings based on semantic similarity. We use the SentenceTransformer model all-MiniLM-L6-v2 to compute semantic embeddings of resumes and job postings. Cosine similarity is used to match resumes to the modst relevant job postings\n",
        "\n",
        "- The output is the **mean Top-5 similarity score**, representing how well each resume matches to any job."
      ]
    },
    {
      "cell_type": "code",
      "source": [
        "from sentence_transformers import SentenceTransformer\n",
        "from sklearn.metrics.pairwise import cosine_similarity"
      ],
      "metadata": {
        "id": "8skFQWsilfWQ"
      },
      "id": "8skFQWsilfWQ",
      "execution_count": null,
      "outputs": []
    },
    {
      "cell_type": "code",
      "execution_count": null,
      "id": "3c3bbc0c-34dc-4248-9257-565322c83db8",
      "metadata": {
        "id": "3c3bbc0c-34dc-4248-9257-565322c83db8"
      },
      "outputs": [],
      "source": [
        "resumes_df = pd.read_csv(\"/content/drive/MyDrive/IE7500 Project - Cleaned Data/Cleaned_Resume.csv\")            # Replace with actual path\n",
        "jobs_df = pd.read_csv(\"/content/drive/MyDrive/IE7500 Project - Cleaned Data/postings_enriched.csv\")            # Replace with actual path\n",
        "job_skills_df = pd.read_csv(\"/content/drive/MyDrive/IE7500 Project - Cleaned Data/job_skills_cleaned.csv\")\n",
        "skills_df = pd.read_csv(\"/content/drive/MyDrive/IE7500 Project - Cleaned Data/skills_cleaned.csv\")"
      ]
    },
    {
      "cell_type": "code",
      "execution_count": null,
      "id": "f88cc072-195b-4f22-b257-da6d52d9b152",
      "metadata": {
        "colab": {
          "base_uri": "https://localhost:8080/",
          "height": 206
        },
        "id": "f88cc072-195b-4f22-b257-da6d52d9b152",
        "outputId": "339619be-8a82-403f-9f40-5170f7e7d095"
      },
      "outputs": [
        {
          "output_type": "execute_result",
          "data": {
            "text/plain": [
              "     job_id                                           job_text\n",
              "0    921716  marketing coordinator job descriptiona leading...\n",
              "1   1829192  mental health therapistcounselor at aspen ther...\n",
              "2  10998357  assitant restaurant manager the national exemp...\n",
              "3  23221523  senior elder law  trusts and estates associate...\n",
              "4  35982263  service technician looking for hvac service te..."
            ],
            "text/html": [
              "\n",
              "  <div id=\"df-29c0d38a-dc3d-45cc-86a1-2959a8f19b63\" class=\"colab-df-container\">\n",
              "    <div>\n",
              "<style scoped>\n",
              "    .dataframe tbody tr th:only-of-type {\n",
              "        vertical-align: middle;\n",
              "    }\n",
              "\n",
              "    .dataframe tbody tr th {\n",
              "        vertical-align: top;\n",
              "    }\n",
              "\n",
              "    .dataframe thead th {\n",
              "        text-align: right;\n",
              "    }\n",
              "</style>\n",
              "<table border=\"1\" class=\"dataframe\">\n",
              "  <thead>\n",
              "    <tr style=\"text-align: right;\">\n",
              "      <th></th>\n",
              "      <th>job_id</th>\n",
              "      <th>job_text</th>\n",
              "    </tr>\n",
              "  </thead>\n",
              "  <tbody>\n",
              "    <tr>\n",
              "      <th>0</th>\n",
              "      <td>921716</td>\n",
              "      <td>marketing coordinator job descriptiona leading...</td>\n",
              "    </tr>\n",
              "    <tr>\n",
              "      <th>1</th>\n",
              "      <td>1829192</td>\n",
              "      <td>mental health therapistcounselor at aspen ther...</td>\n",
              "    </tr>\n",
              "    <tr>\n",
              "      <th>2</th>\n",
              "      <td>10998357</td>\n",
              "      <td>assitant restaurant manager the national exemp...</td>\n",
              "    </tr>\n",
              "    <tr>\n",
              "      <th>3</th>\n",
              "      <td>23221523</td>\n",
              "      <td>senior elder law  trusts and estates associate...</td>\n",
              "    </tr>\n",
              "    <tr>\n",
              "      <th>4</th>\n",
              "      <td>35982263</td>\n",
              "      <td>service technician looking for hvac service te...</td>\n",
              "    </tr>\n",
              "  </tbody>\n",
              "</table>\n",
              "</div>\n",
              "    <div class=\"colab-df-buttons\">\n",
              "\n",
              "  <div class=\"colab-df-container\">\n",
              "    <button class=\"colab-df-convert\" onclick=\"convertToInteractive('df-29c0d38a-dc3d-45cc-86a1-2959a8f19b63')\"\n",
              "            title=\"Convert this dataframe to an interactive table.\"\n",
              "            style=\"display:none;\">\n",
              "\n",
              "  <svg xmlns=\"http://www.w3.org/2000/svg\" height=\"24px\" viewBox=\"0 -960 960 960\">\n",
              "    <path d=\"M120-120v-720h720v720H120Zm60-500h600v-160H180v160Zm220 220h160v-160H400v160Zm0 220h160v-160H400v160ZM180-400h160v-160H180v160Zm440 0h160v-160H620v160ZM180-180h160v-160H180v160Zm440 0h160v-160H620v160Z\"/>\n",
              "  </svg>\n",
              "    </button>\n",
              "\n",
              "  <style>\n",
              "    .colab-df-container {\n",
              "      display:flex;\n",
              "      gap: 12px;\n",
              "    }\n",
              "\n",
              "    .colab-df-convert {\n",
              "      background-color: #E8F0FE;\n",
              "      border: none;\n",
              "      border-radius: 50%;\n",
              "      cursor: pointer;\n",
              "      display: none;\n",
              "      fill: #1967D2;\n",
              "      height: 32px;\n",
              "      padding: 0 0 0 0;\n",
              "      width: 32px;\n",
              "    }\n",
              "\n",
              "    .colab-df-convert:hover {\n",
              "      background-color: #E2EBFA;\n",
              "      box-shadow: 0px 1px 2px rgba(60, 64, 67, 0.3), 0px 1px 3px 1px rgba(60, 64, 67, 0.15);\n",
              "      fill: #174EA6;\n",
              "    }\n",
              "\n",
              "    .colab-df-buttons div {\n",
              "      margin-bottom: 4px;\n",
              "    }\n",
              "\n",
              "    [theme=dark] .colab-df-convert {\n",
              "      background-color: #3B4455;\n",
              "      fill: #D2E3FC;\n",
              "    }\n",
              "\n",
              "    [theme=dark] .colab-df-convert:hover {\n",
              "      background-color: #434B5C;\n",
              "      box-shadow: 0px 1px 3px 1px rgba(0, 0, 0, 0.15);\n",
              "      filter: drop-shadow(0px 1px 2px rgba(0, 0, 0, 0.3));\n",
              "      fill: #FFFFFF;\n",
              "    }\n",
              "  </style>\n",
              "\n",
              "    <script>\n",
              "      const buttonEl =\n",
              "        document.querySelector('#df-29c0d38a-dc3d-45cc-86a1-2959a8f19b63 button.colab-df-convert');\n",
              "      buttonEl.style.display =\n",
              "        google.colab.kernel.accessAllowed ? 'block' : 'none';\n",
              "\n",
              "      async function convertToInteractive(key) {\n",
              "        const element = document.querySelector('#df-29c0d38a-dc3d-45cc-86a1-2959a8f19b63');\n",
              "        const dataTable =\n",
              "          await google.colab.kernel.invokeFunction('convertToInteractive',\n",
              "                                                    [key], {});\n",
              "        if (!dataTable) return;\n",
              "\n",
              "        const docLinkHtml = 'Like what you see? Visit the ' +\n",
              "          '<a target=\"_blank\" href=https://colab.research.google.com/notebooks/data_table.ipynb>data table notebook</a>'\n",
              "          + ' to learn more about interactive tables.';\n",
              "        element.innerHTML = '';\n",
              "        dataTable['output_type'] = 'display_data';\n",
              "        await google.colab.output.renderOutput(dataTable, element);\n",
              "        const docLink = document.createElement('div');\n",
              "        docLink.innerHTML = docLinkHtml;\n",
              "        element.appendChild(docLink);\n",
              "      }\n",
              "    </script>\n",
              "  </div>\n",
              "\n",
              "\n",
              "    <div id=\"df-0e223da9-2968-4f1d-94a5-d7dbd569cabd\">\n",
              "      <button class=\"colab-df-quickchart\" onclick=\"quickchart('df-0e223da9-2968-4f1d-94a5-d7dbd569cabd')\"\n",
              "                title=\"Suggest charts\"\n",
              "                style=\"display:none;\">\n",
              "\n",
              "<svg xmlns=\"http://www.w3.org/2000/svg\" height=\"24px\"viewBox=\"0 0 24 24\"\n",
              "     width=\"24px\">\n",
              "    <g>\n",
              "        <path d=\"M19 3H5c-1.1 0-2 .9-2 2v14c0 1.1.9 2 2 2h14c1.1 0 2-.9 2-2V5c0-1.1-.9-2-2-2zM9 17H7v-7h2v7zm4 0h-2V7h2v10zm4 0h-2v-4h2v4z\"/>\n",
              "    </g>\n",
              "</svg>\n",
              "      </button>\n",
              "\n",
              "<style>\n",
              "  .colab-df-quickchart {\n",
              "      --bg-color: #E8F0FE;\n",
              "      --fill-color: #1967D2;\n",
              "      --hover-bg-color: #E2EBFA;\n",
              "      --hover-fill-color: #174EA6;\n",
              "      --disabled-fill-color: #AAA;\n",
              "      --disabled-bg-color: #DDD;\n",
              "  }\n",
              "\n",
              "  [theme=dark] .colab-df-quickchart {\n",
              "      --bg-color: #3B4455;\n",
              "      --fill-color: #D2E3FC;\n",
              "      --hover-bg-color: #434B5C;\n",
              "      --hover-fill-color: #FFFFFF;\n",
              "      --disabled-bg-color: #3B4455;\n",
              "      --disabled-fill-color: #666;\n",
              "  }\n",
              "\n",
              "  .colab-df-quickchart {\n",
              "    background-color: var(--bg-color);\n",
              "    border: none;\n",
              "    border-radius: 50%;\n",
              "    cursor: pointer;\n",
              "    display: none;\n",
              "    fill: var(--fill-color);\n",
              "    height: 32px;\n",
              "    padding: 0;\n",
              "    width: 32px;\n",
              "  }\n",
              "\n",
              "  .colab-df-quickchart:hover {\n",
              "    background-color: var(--hover-bg-color);\n",
              "    box-shadow: 0 1px 2px rgba(60, 64, 67, 0.3), 0 1px 3px 1px rgba(60, 64, 67, 0.15);\n",
              "    fill: var(--button-hover-fill-color);\n",
              "  }\n",
              "\n",
              "  .colab-df-quickchart-complete:disabled,\n",
              "  .colab-df-quickchart-complete:disabled:hover {\n",
              "    background-color: var(--disabled-bg-color);\n",
              "    fill: var(--disabled-fill-color);\n",
              "    box-shadow: none;\n",
              "  }\n",
              "\n",
              "  .colab-df-spinner {\n",
              "    border: 2px solid var(--fill-color);\n",
              "    border-color: transparent;\n",
              "    border-bottom-color: var(--fill-color);\n",
              "    animation:\n",
              "      spin 1s steps(1) infinite;\n",
              "  }\n",
              "\n",
              "  @keyframes spin {\n",
              "    0% {\n",
              "      border-color: transparent;\n",
              "      border-bottom-color: var(--fill-color);\n",
              "      border-left-color: var(--fill-color);\n",
              "    }\n",
              "    20% {\n",
              "      border-color: transparent;\n",
              "      border-left-color: var(--fill-color);\n",
              "      border-top-color: var(--fill-color);\n",
              "    }\n",
              "    30% {\n",
              "      border-color: transparent;\n",
              "      border-left-color: var(--fill-color);\n",
              "      border-top-color: var(--fill-color);\n",
              "      border-right-color: var(--fill-color);\n",
              "    }\n",
              "    40% {\n",
              "      border-color: transparent;\n",
              "      border-right-color: var(--fill-color);\n",
              "      border-top-color: var(--fill-color);\n",
              "    }\n",
              "    60% {\n",
              "      border-color: transparent;\n",
              "      border-right-color: var(--fill-color);\n",
              "    }\n",
              "    80% {\n",
              "      border-color: transparent;\n",
              "      border-right-color: var(--fill-color);\n",
              "      border-bottom-color: var(--fill-color);\n",
              "    }\n",
              "    90% {\n",
              "      border-color: transparent;\n",
              "      border-bottom-color: var(--fill-color);\n",
              "    }\n",
              "  }\n",
              "</style>\n",
              "\n",
              "      <script>\n",
              "        async function quickchart(key) {\n",
              "          const quickchartButtonEl =\n",
              "            document.querySelector('#' + key + ' button');\n",
              "          quickchartButtonEl.disabled = true;  // To prevent multiple clicks.\n",
              "          quickchartButtonEl.classList.add('colab-df-spinner');\n",
              "          try {\n",
              "            const charts = await google.colab.kernel.invokeFunction(\n",
              "                'suggestCharts', [key], {});\n",
              "          } catch (error) {\n",
              "            console.error('Error during call to suggestCharts:', error);\n",
              "          }\n",
              "          quickchartButtonEl.classList.remove('colab-df-spinner');\n",
              "          quickchartButtonEl.classList.add('colab-df-quickchart-complete');\n",
              "        }\n",
              "        (() => {\n",
              "          let quickchartButtonEl =\n",
              "            document.querySelector('#df-0e223da9-2968-4f1d-94a5-d7dbd569cabd button');\n",
              "          quickchartButtonEl.style.display =\n",
              "            google.colab.kernel.accessAllowed ? 'block' : 'none';\n",
              "        })();\n",
              "      </script>\n",
              "    </div>\n",
              "\n",
              "    </div>\n",
              "  </div>\n"
            ],
            "application/vnd.google.colaboratory.intrinsic+json": {
              "type": "dataframe",
              "summary": "{\n  \"name\": \"jobs_df[[\\\"job_id\\\", \\\"job_text\\\"]]\",\n  \"rows\": 5,\n  \"fields\": [\n    {\n      \"column\": \"job_id\",\n      \"properties\": {\n        \"dtype\": \"number\",\n        \"std\": 14955703,\n        \"min\": 921716,\n        \"max\": 35982263,\n        \"num_unique_values\": 5,\n        \"samples\": [\n          1829192,\n          35982263,\n          10998357\n        ],\n        \"semantic_type\": \"\",\n        \"description\": \"\"\n      }\n    },\n    {\n      \"column\": \"job_text\",\n      \"properties\": {\n        \"dtype\": \"string\",\n        \"num_unique_values\": 5,\n        \"samples\": [\n          \"mental health therapistcounselor at aspen therapy and wellness  we are committed to serving clients with best practices to help them with change improvements and better quality of life we believe in providing a secure supportive environment to grow as a clinician and learn how to foster longevity in the career which is part of our mission statement\\nthank you for taking the time to explore a career with us we are excited to be a new group practice in the community if you are looking for quality supervision as you work towards licensure and ability to serve populations while accepting a variety of insurance panels we may be a good fit our supervisors are trained in emdr and utilize a parts work perspective with a trauma lens\\nwe are actively looking to hire a therapist in the area who is passionate about working with adults and committed to growth and excellence in the field we are located in old town square fort collins\\nwe value and are strengthened by diversity and desire a warm and welcoming place for all people we believe in racial and ethnic equality gender equity and social inclusion\\nposition requirement possibilitiesa graduate level psychological counselingrelated degreemasters of social work mswlswlicensed professional counselor candidate lpccclinical social worker lcswprofessional counselor lpcmarriagefamily therapist lmftrelating to thiswanting to deliver high quality mental healthcareseeking quality supervision and growth in a healthy environmentwhat we offerflexible work schedulew2 employment  commission basedbuilding to full time workjump of 5 in commission as well as monthly bonusstipend once full timeweekly supervision providedpaid weekly team meetings 30hrtwo paid wellness hoursmonth 30hrtelemedicine and inperson flexibilitysupportive work environment with direct access to two supervisorsadministrative supportapproved professional development training providedfully automated ehr and technology supportstrong worklife balancejob dutiesconducting intake assessmentsdeveloping and implementing treatment plans for clients based on assessment and coordinating any additional services needed revising as necessaryconducting individual sessions as appropriate for the treatment plan of the patientapplying psychotherapeutic techniques and interventions in the delivery of services to individuals for the purpose of treating emotional and behavioral disorders that have been diagnosed in assessmentparticipating in team meetings in order to staff new cases presenting appropriate patient information to the team recommending effective treatment interventionsbuilding and maintaining an active caseload with assigned clientscompleting timely progress notes and treatment updates in the ehr maintaining all clinical documentation in accordance with regulatory and accrediting standardsproviding crisis intervention to patients in acute distress and referring as neededperforming case management and discharge planning as neededexcellent communication and interpersonal skillscompassionate and empathetic approach to patient careplease send resume and cover letter to infoaspentherapyandwellnesscom\\nabout aspen therapy and wellness llcaspen therapy and wellness is a mental health services provider focusing on work with adults in an outpatient setting working with a variety of mental health issues both inperson in old town fort collins and throughout the state of colorado via telehealth services\\nplease note that this job description is not exhaustive and additional duties may be assigned as needed health care provider\",\n          \"service technician looking for hvac service tech with experience in commerical and industrial equipment minimum 5 yrs on the job with mechanical license winger is a full line union mechanical business with piping plumbing sheet metal and service information technology\",\n          \"assitant restaurant manager the national exemplar is accepting applications for an assistant restaurant manager\\nwe offer highly competitive wages healthcare paid time off complimentary dining privileges and bonus opportunities \\nwe are a serious professional longstanding neighborhood restaurant with over 41 years of service if you are looking for a longterm fit with a best in class organization then you should apply now \\nplease send a resumes to pardomnationalexemplarcom o management manufacturing\"\n        ],\n        \"semantic_type\": \"\",\n        \"description\": \"\"\n      }\n    }\n  ]\n}"
            }
          },
          "metadata": {},
          "execution_count": 33
        }
      ],
      "source": [
        "#Data Merging - merging csvs to include Title + Description + Skill Names\n",
        "job_skills_df = job_skills_df.merge(\n",
        "    skills_df,\n",
        "    on=\"skill_abr\",\n",
        "    how=\"left\"\n",
        ")\n",
        "\n",
        "# Aggregate skills for each job\n",
        "skills_per_job = (\n",
        "    job_skills_df\n",
        "    .groupby(\"job_id\")[\"skill_name\"]\n",
        "    .apply(lambda x: \" \".join(x.dropna()))\n",
        "    .reset_index()\n",
        ")\n",
        "\n",
        "# Merge into job postings\n",
        "jobs_df = jobs_df.merge(skills_per_job, on=\"job_id\", how=\"left\")\n",
        "\n",
        "# Create final job_text field\n",
        "jobs_df[\"job_text\"] = (\n",
        "    jobs_df[\"Cleaned_Title\"].fillna(\"\") + \" \" +\n",
        "    jobs_df[\"Cleaned_Description\"].fillna(\"\") + \" \" +\n",
        "    jobs_df[\"skill_name\"].fillna(\"\")\n",
        ")\n",
        "\n",
        "jobs_df[[\"job_id\", \"job_text\"]].head()"
      ]
    },
    {
      "cell_type": "code",
      "execution_count": null,
      "id": "80777e75-8a6b-4cca-bf17-336e3ac27795",
      "metadata": {
        "id": "80777e75-8a6b-4cca-bf17-336e3ac27795"
      },
      "outputs": [],
      "source": [
        "# Load BERT model\n",
        "bert_model = SentenceTransformer('all-MiniLM-L6-v2')"
      ]
    },
    {
      "cell_type": "code",
      "execution_count": null,
      "id": "4ef77ba4-3c04-41eb-a32b-59d6807f5b20",
      "metadata": {
        "id": "4ef77ba4-3c04-41eb-a32b-59d6807f5b20"
      },
      "outputs": [],
      "source": [
        "# Prepare text (replace NaNs)\n",
        "resumes_text_clean = resumes_df[\"Cleaned_Resume\"].fillna(\"\").tolist()\n",
        "jobs_text_clean = jobs_df[\"job_text\"].fillna(\"\").tolist()"
      ]
    },
    {
      "cell_type": "code",
      "execution_count": null,
      "id": "fc13316c-827c-40cf-bddf-474d5c9ebef4",
      "metadata": {
        "colab": {
          "base_uri": "https://localhost:8080/",
          "height": 116,
          "referenced_widgets": [
            "2038b8e06cd74c6eb2113e08bf066e03",
            "1468c62544a04071ba8f0ef999794c1d",
            "cad77f13f04e44a9a919a22225785034",
            "4a798e7fe77f427dbf449b465934aa6a",
            "6fecfe9dffa44dfa8d8768e9613cd864",
            "2c63518416234202bba0d7df0e23a4ae",
            "2974a969d8f645d088525d1fe614ed72",
            "91360442073240ddab469b816f268d84",
            "731b0551b5aa44df88304baf28d65f08",
            "2f264d25745d486c87a3bd8859926238",
            "385813491808466a9767699aacd994bc",
            "9d0bc13f98df440abc43fc4377f26900",
            "ef8a64e0827b4086bab1ae3a5e71efa8",
            "695df897a6a14ddb98913805fd585cb6",
            "489bf232b43340e6812d2bf6acd853c3",
            "eb7d12be38d946408183bd50f530b3d2",
            "ea75141cfb944053bda4e2621e9abc5a",
            "751e9c78af02437e818694c7add38ec2",
            "d22e37d458fe4a9cbfbba1ab10659606",
            "a150e65e38964fce990372917ec7e76b",
            "8c29fbed85e94aefb567293d5ca9782f",
            "2a25e94f563f4d57bb415e1849611a43"
          ]
        },
        "id": "fc13316c-827c-40cf-bddf-474d5c9ebef4",
        "outputId": "8792be29-0cf5-46f6-8608-35b9c511c40c"
      },
      "outputs": [
        {
          "output_type": "stream",
          "name": "stdout",
          "text": [
            "Encoding resumes...\n"
          ]
        },
        {
          "output_type": "display_data",
          "data": {
            "text/plain": [
              "Batches:   0%|          | 0/39 [00:00<?, ?it/s]"
            ],
            "application/vnd.jupyter.widget-view+json": {
              "version_major": 2,
              "version_minor": 0,
              "model_id": "2038b8e06cd74c6eb2113e08bf066e03"
            }
          },
          "metadata": {}
        },
        {
          "output_type": "stream",
          "name": "stdout",
          "text": [
            "Encoding jobs...\n"
          ]
        },
        {
          "output_type": "display_data",
          "data": {
            "text/plain": [
              "Batches:   0%|          | 0/1936 [00:00<?, ?it/s]"
            ],
            "application/vnd.jupyter.widget-view+json": {
              "version_major": 2,
              "version_minor": 0,
              "model_id": "9d0bc13f98df440abc43fc4377f26900"
            }
          },
          "metadata": {}
        }
      ],
      "source": [
        "# Compute embeddings\n",
        "print(\"Encoding resumes...\")\n",
        "resume_embeddings = bert_model.encode(resumes_text_clean, show_progress_bar=True, batch_size=64)\n",
        "\n",
        "print(\"Encoding jobs...\")\n",
        "job_embeddings = bert_model.encode(jobs_text_clean, show_progress_bar=True, batch_size=64)"
      ]
    },
    {
      "cell_type": "code",
      "source": [
        "from sklearn.metrics.pairwise import cosine_similarity\n",
        "\n",
        "# Calculate cosine similarity between resume and job embeddings\n",
        "similarity_matrix = cosine_similarity(resume_embeddings, job_embeddings)"
      ],
      "metadata": {
        "id": "Ss2INV3T0cM5"
      },
      "id": "Ss2INV3T0cM5",
      "execution_count": null,
      "outputs": []
    },
    {
      "cell_type": "code",
      "execution_count": null,
      "id": "a7b4840c-a833-49d4-96df-c30390b1a173",
      "metadata": {
        "colab": {
          "base_uri": "https://localhost:8080/"
        },
        "id": "a7b4840c-a833-49d4-96df-c30390b1a173",
        "outputId": "86baac94-ca50-422e-dfee-a8ac147c8502"
      },
      "outputs": [
        {
          "output_type": "stream",
          "name": "stdout",
          "text": [
            "Mean top-5 similarity (BERT): 0.66518426\n"
          ]
        }
      ],
      "source": [
        "# Calculate mean top-5 similarity\n",
        "top5_scores = []\n",
        "for row in similarity_matrix:\n",
        "    top5 = np.sort(row)[-5:]\n",
        "    avg_top5 = np.mean(top5)\n",
        "    top5_scores.append(avg_top5)\n",
        "\n",
        "mean_top5_similarity = np.mean(top5_scores)\n",
        "\n",
        "print(\"Mean top-5 similarity (BERT):\", mean_top5_similarity)"
      ]
    },
    {
      "cell_type": "markdown",
      "id": "286282d2-d4f6-467a-9e4c-81d72c0a2387",
      "metadata": {
        "id": "286282d2-d4f6-467a-9e4c-81d72c0a2387"
      },
      "source": [
        "- The **Mean Top-5 Cosine Similarity Score** quantifies how well each resume matches to any of the top 5 job descriptions. A higher value indicates the the model is finding jobs that are semantically similar to each resume."
      ]
    },
    {
      "cell_type": "code",
      "source": [
        "import matplotlib.pyplot as plt\n",
        "\n",
        "max_similarities = np.max(similarity_matrix, axis=1)\n",
        "plt.hist(max_similarities, bins=20, color=\"skyblue\", edgecolor=\"black\")\n",
        "plt.title(\"Distribution of Top-1 Cosine Similarity Scores\")\n",
        "plt.xlabel(\"Cosine Similarity\")\n",
        "plt.ylabel(\"Number of Resumes\")\n",
        "plt.show()"
      ],
      "metadata": {
        "colab": {
          "base_uri": "https://localhost:8080/",
          "height": 472
        },
        "id": "UCv8IRpSI4u4",
        "outputId": "57a4c988-49cb-4c0e-f881-2f0dab5fa9a3"
      },
      "id": "UCv8IRpSI4u4",
      "execution_count": null,
      "outputs": [
        {
          "output_type": "display_data",
          "data": {
            "text/plain": [
              "<Figure size 640x480 with 1 Axes>"
            ],
            "image/png": "[encoded data removed]"
          },
          "metadata": {}
        }
      ]
    },
    {
      "cell_type": "markdown",
      "source": [
        "- **Distribution of Top-1 Cosine Similarity Scores**\n",
        "The histogram displays how many resumes have their top match fall within certain cosine similarity ranges. Most resumes have a top-1 similarity between 0.65 and 0.75, suggesting that the model generally finds fairly relevant jobs. Very few resumes fall below 0.5, indicating minimal poor matches. The model performs well for the majority of cases, but further tuning could push more resumes above 0.75 similarity."
      ],
      "metadata": {
        "id": "svI6lBa8SgET"
      },
      "id": "svI6lBa8SgET"
    },
    {
      "cell_type": "code",
      "source": [
        "top_k = 3\n",
        "top_k_indices = np.argsort(similarity_matrix, axis=1)[:, -top_k:]\n",
        "\n",
        "# Flatten and count job frequencies\n",
        "unique, counts = np.unique(top_k_indices, return_counts=True)\n",
        "job_freq = dict(zip(unique, counts))\n",
        "\n",
        "# Show most common recommended jobs\n",
        "import collections\n",
        "common_jobs = collections.Counter(job_freq).most_common(10)\n",
        "print(\"Most frequently recommended jobs (Top-3):\")\n",
        "for job_id, count in common_jobs:\n",
        "    print(f\"Job #{job_id} - recommended {count} times\")"
      ],
      "metadata": {
        "colab": {
          "base_uri": "https://localhost:8080/"
        },
        "id": "znZXJwbUI_ka",
        "outputId": "129c2537-8390-4d8c-de08-86d80c37ce9f"
      },
      "id": "znZXJwbUI_ka",
      "execution_count": null,
      "outputs": [
        {
          "output_type": "stream",
          "name": "stdout",
          "text": [
            "Most frequently recommended jobs (Top-3):\n",
            "Job #10167 - recommended 512 times\n",
            "Job #78087 - recommended 153 times\n",
            "Job #78402 - recommended 146 times\n",
            "Job #68549 - recommended 116 times\n",
            "Job #2408 - recommended 111 times\n",
            "Job #123547 - recommended 81 times\n",
            "Job #89152 - recommended 71 times\n",
            "Job #8794 - recommended 66 times\n",
            "Job #38896 - recommended 54 times\n",
            "Job #59081 - recommended 51 times\n"
          ]
        }
      ]
    },
    {
      "cell_type": "markdown",
      "source": [
        "- **Most Frequently Recommended Jobs (Top-3)**\n",
        "This output lists which job postings appear most often in the top-3 recommendations across all resumes. Some job IDs (like #10167) are recommended disproportionately often, which may suggest that the jobs are\n",
        "gerneral roles or that the model could be over-relying on them due to limited differentiation or bias. This can be addressed by improving job text diversity or rebalancing training data."
      ],
      "metadata": {
        "id": "o3qKoPUMS01h"
      },
      "id": "o3qKoPUMS01h"
    },
    {
      "cell_type": "code",
      "source": [
        "spread_scores = []\n",
        "for row in similarity_matrix:\n",
        "    top3 = np.sort(row)[-3:]\n",
        "    spread = np.std(top3)\n",
        "    spread_scores.append(spread)\n",
        "\n",
        "print(f\"Average Top-3 Similarity Spread: {np.mean(spread_scores):.4f}\")"
      ],
      "metadata": {
        "colab": {
          "base_uri": "https://localhost:8080/"
        },
        "id": "R-I9YJ9KJViU",
        "outputId": "cc9c6946-1a39-4075-f99d-202a2d751800"
      },
      "id": "R-I9YJ9KJViU",
      "execution_count": null,
      "outputs": [
        {
          "output_type": "stream",
          "name": "stdout",
          "text": [
            "Average Top-3 Similarity Spread: 0.0098\n"
          ]
        }
      ]
    },
    {
      "cell_type": "markdown",
      "source": [
        "- **Average Top-3 Similarity Spread**\n",
        "This metric calculates the standard deviation of the top-3 cosine similarity\n",
        "scores for each resume. The low spread means that the top 3 jobs are nearly tied in similarity. This suggests that the model is not strongly favoring one job over the others."
      ],
      "metadata": {
        "id": "KgV2ju5LUSb5"
      },
      "id": "KgV2ju5LUSb5"
    },
    {
      "cell_type": "code",
      "source": [
        "# Simulated recommendation list: top-3 job IDs for each resume\n",
        "# Format: recommendations[i] = list of top-k job IDs for resume i\n",
        "recommendations = [\n",
        "    [102, 203, 305],\n",
        "    [100, 110, 120],\n",
        "    [400, 401, 402],\n",
        "    [900, 901, 905],\n",
        "    [700, 702, 704]\n",
        "]\n",
        "\n",
        "# Simulated ground truth: actual job ID matched to each resume\n",
        "# Format: ground_truth[i] = actual job ID for resume i\n",
        "ground_truth = [305, 120, 499, 901, 704]\n",
        "\n",
        "# Evaluation function\n",
        "def evaluate_topk(recommendations, ground_truth, k=3):\n",
        "    precision_scores, recall_scores = [], []\n",
        "    top1_hits = 0\n",
        "\n",
        "    for recs, true_id in zip(recommendations, ground_truth):\n",
        "        top_k = recs[:k]\n",
        "        hit = int(true_id in top_k)\n",
        "        precision_scores.append(hit / k)\n",
        "        recall_scores.append(hit)\n",
        "        top1_hits += int(true_id == recs[0])\n",
        "\n",
        "    precision_at_k = np.mean(precision_scores)\n",
        "    recall_at_k = np.mean(recall_scores)\n",
        "    top1_accuracy = top1_hits / len(ground_truth)\n",
        "\n",
        "    return precision_at_k, recall_at_k, top1_accuracy\n",
        "\n",
        "# Run evaluation\n",
        "precision, recall, top1 = evaluate_topk(recommendations, ground_truth, k=3)\n",
        "\n",
        "# Print results\n",
        "print(f\"Precision@3: {precision:.2f}\")\n",
        "print(f\"Recall@3: {recall:.2f}\")\n",
        "print(f\"Top-1 Accuracy: {top1:.2f}\")"
      ],
      "metadata": {
        "colab": {
          "base_uri": "https://localhost:8080/"
        },
        "id": "oMXaPsnDVcj9",
        "outputId": "6ac5e9c0-af49-4470-e77d-0bdda3acee51"
      },
      "id": "oMXaPsnDVcj9",
      "execution_count": null,
      "outputs": [
        {
          "output_type": "stream",
          "name": "stdout",
          "text": [
            "Precision@3: 0.27\n",
            "Recall@3: 0.80\n",
            "Top-1 Accuracy: 0.00\n"
          ]
        }
      ]
    },
    {
      "cell_type": "code",
      "source": [
        "from sklearn.dummy import DummyClassifier\n",
        "# Baseline model\n",
        "dummy = DummyClassifier(strategy=\"most_frequent\")\n",
        "dummy.fit(X_train_tfidf, y_train)\n",
        "y_dummy_pred = dummy.predict(X_test_tfidf)\n",
        "\n",
        "print(\"Baseline Accuracy:\", round(accuracy_score(y_test, y_dummy_pred) * 100, 2), \"%\")\n",
        "print(\"Baseline Classification Report:\")\n",
        "print(classification_report(y_test, y_dummy_pred, zero_division=0))"
      ],
      "metadata": {
        "colab": {
          "base_uri": "https://localhost:8080/"
        },
        "id": "Bukh3J1-VoyN",
        "outputId": "0db37063-dec6-4a35-fef6-8f095133f73f"
      },
      "id": "Bukh3J1-VoyN",
      "execution_count": null,
      "outputs": [
        {
          "output_type": "stream",
          "name": "stdout",
          "text": [
            "Baseline Accuracy: 3.82 %\n",
            "Baseline Classification Report:\n",
            "                        precision    recall  f1-score   support\n",
            "\n",
            "            ACCOUNTANT       0.00      0.00      0.00        29\n",
            "              ADVOCATE       0.00      0.00      0.00        30\n",
            "           AGRICULTURE       0.00      0.00      0.00         8\n",
            "               APPAREL       0.00      0.00      0.00        20\n",
            "                  ARTS       0.00      0.00      0.00        18\n",
            "            AUTOMOBILE       0.00      0.00      0.00         6\n",
            "              AVIATION       0.00      0.00      0.00        21\n",
            "               BANKING       0.00      0.00      0.00        23\n",
            "                   BPO       0.00      0.00      0.00         2\n",
            "  BUSINESS-DEVELOPMENT       0.00      0.00      0.00        27\n",
            "                  CHEF       0.00      0.00      0.00        24\n",
            "          CONSTRUCTION       0.00      0.00      0.00        34\n",
            "            CONSULTANT       0.00      0.00      0.00        20\n",
            "              DESIGNER       0.00      0.00      0.00        19\n",
            "         DIGITAL-MEDIA       0.00      0.00      0.00        25\n",
            "           ENGINEERING       0.00      0.00      0.00        21\n",
            "               FINANCE       0.04      1.00      0.07        19\n",
            "               FITNESS       0.00      0.00      0.00        19\n",
            "            HEALTHCARE       0.00      0.00      0.00        20\n",
            "                    HR       0.00      0.00      0.00        18\n",
            "INFORMATION-TECHNOLOGY       0.00      0.00      0.00        26\n",
            "      PUBLIC-RELATIONS       0.00      0.00      0.00        17\n",
            "                 SALES       0.00      0.00      0.00        29\n",
            "               TEACHER       0.00      0.00      0.00        22\n",
            "\n",
            "              accuracy                           0.04       497\n",
            "             macro avg       0.00      0.04      0.00       497\n",
            "          weighted avg       0.00      0.04      0.00       497\n",
            "\n"
          ]
        }
      ]
    }
  ],
  "metadata": {
    "kernelspec": {
      "display_name": "Python 3",
      "name": "python3"
    },
    "language_info": {
      "codemirror_mode": {
        "name": "ipython",
        "version": 3
      },
      "file_extension": ".py",
      "mimetype": "text/x-python",
      "name": "python",
      "nbconvert_exporter": "python",
      "pygments_lexer": "ipython3",
      "version": "3.12.6"
    },
    "colab": {
      "provenance": [],
      "machine_shape": "hm",
      "gpuType": "A100"
    },
    "accelerator": "GPU",
    "widgets": {
      "application/vnd.jupyter.widget-state+json": {
        "2038b8e06cd74c6eb2113e08bf066e03": {
          "model_module": "@jupyter-widgets/controls",
          "model_name": "HBoxModel",
          "model_module_version": "1.5.0",
          "state": {
            "_dom_classes": [],
            "_model_module": "@jupyter-widgets/controls",
            "_model_module_version": "1.5.0",
            "_model_name": "HBoxModel",
            "_view_count": null,
            "_view_module": "@jupyter-widgets/controls",
            "_view_module_version": "1.5.0",
            "_view_name": "HBoxView",
            "box_style": "",
            "children": [
              "IPY_MODEL_1468c62544a04071ba8f0ef999794c1d",
              "IPY_MODEL_cad77f13f04e44a9a919a22225785034",
              "IPY_MODEL_4a798e7fe77f427dbf449b465934aa6a"
            ],
            "layout": "IPY_MODEL_6fecfe9dffa44dfa8d8768e9613cd864"
          }
        },
        "1468c62544a04071ba8f0ef999794c1d": {
          "model_module": "@jupyter-widgets/controls",
          "model_name": "HTMLModel",
          "model_module_version": "1.5.0",
          "state": {
            "_dom_classes": [],
            "_model_module": "@jupyter-widgets/controls",
            "_model_module_version": "1.5.0",
            "_model_name": "HTMLModel",
            "_view_count": null,
            "_view_module": "@jupyter-widgets/controls",
            "_view_module_version": "1.5.0",
            "_view_name": "HTMLView",
            "description": "",
            "description_tooltip": null,
            "layout": "IPY_MODEL_2c63518416234202bba0d7df0e23a4ae",
            "placeholder": "​",
            "style": "IPY_MODEL_2974a969d8f645d088525d1fe614ed72",
            "value": "Batches: 100%"
          }
        },
        "cad77f13f04e44a9a919a22225785034": {
          "model_module": "@jupyter-widgets/controls",
          "model_name": "FloatProgressModel",
          "model_module_version": "1.5.0",
          "state": {
            "_dom_classes": [],
            "_model_module": "@jupyter-widgets/controls",
            "_model_module_version": "1.5.0",
            "_model_name": "FloatProgressModel",
            "_view_count": null,
            "_view_module": "@jupyter-widgets/controls",
            "_view_module_version": "1.5.0",
            "_view_name": "ProgressView",
            "bar_style": "success",
            "description": "",
            "description_tooltip": null,
            "layout": "IPY_MODEL_91360442073240ddab469b816f268d84",
            "max": 39,
            "min": 0,
            "orientation": "horizontal",
            "style": "IPY_MODEL_731b0551b5aa44df88304baf28d65f08",
            "value": 39
          }
        },
        "4a798e7fe77f427dbf449b465934aa6a": {
          "model_module": "@jupyter-widgets/controls",
          "model_name": "HTMLModel",
          "model_module_version": "1.5.0",
          "state": {
            "_dom_classes": [],
            "_model_module": "@jupyter-widgets/controls",
            "_model_module_version": "1.5.0",
            "_model_name": "HTMLModel",
            "_view_count": null,
            "_view_module": "@jupyter-widgets/controls",
            "_view_module_version": "1.5.0",
            "_view_name": "HTMLView",
            "description": "",
            "description_tooltip": null,
            "layout": "IPY_MODEL_2f264d25745d486c87a3bd8859926238",
            "placeholder": "​",
            "style": "IPY_MODEL_385813491808466a9767699aacd994bc",
            "value": " 39/39 [00:02&lt;00:00, 17.75it/s]"
          }
        },
        "6fecfe9dffa44dfa8d8768e9613cd864": {
          "model_module": "@jupyter-widgets/base",
          "model_name": "LayoutModel",
          "model_module_version": "1.2.0",
          "state": {
            "_model_module": "@jupyter-widgets/base",
            "_model_module_version": "1.2.0",
            "_model_name": "LayoutModel",
            "_view_count": null,
            "_view_module": "@jupyter-widgets/base",
            "_view_module_version": "1.2.0",
            "_view_name": "LayoutView",
            "align_content": null,
            "align_items": null,
            "align_self": null,
            "border": null,
            "bottom": null,
            "display": null,
            "flex": null,
            "flex_flow": null,
            "grid_area": null,
            "grid_auto_columns": null,
            "grid_auto_flow": null,
            "grid_auto_rows": null,
            "grid_column": null,
            "grid_gap": null,
            "grid_row": null,
            "grid_template_areas": null,
            "grid_template_columns": null,
            "grid_template_rows": null,
            "height": null,
            "justify_content": null,
            "justify_items": null,
            "left": null,
            "margin": null,
            "max_height": null,
            "max_width": null,
            "min_height": null,
            "min_width": null,
            "object_fit": null,
            "object_position": null,
            "order": null,
            "overflow": null,
            "overflow_x": null,
            "overflow_y": null,
            "padding": null,
            "right": null,
            "top": null,
            "visibility": null,
            "width": null
          }
        },
        "2c63518416234202bba0d7df0e23a4ae": {
          "model_module": "@jupyter-widgets/base",
          "model_name": "LayoutModel",
          "model_module_version": "1.2.0",
          "state": {
            "_model_module": "@jupyter-widgets/base",
            "_model_module_version": "1.2.0",
            "_model_name": "LayoutModel",
            "_view_count": null,
            "_view_module": "@jupyter-widgets/base",
            "_view_module_version": "1.2.0",
            "_view_name": "LayoutView",
            "align_content": null,
            "align_items": null,
            "align_self": null,
            "border": null,
            "bottom": null,
            "display": null,
            "flex": null,
            "flex_flow": null,
            "grid_area": null,
            "grid_auto_columns": null,
            "grid_auto_flow": null,
            "grid_auto_rows": null,
            "grid_column": null,
            "grid_gap": null,
            "grid_row": null,
            "grid_template_areas": null,
            "grid_template_columns": null,
            "grid_template_rows": null,
            "height": null,
            "justify_content": null,
            "justify_items": null,
            "left": null,
            "margin": null,
            "max_height": null,
            "max_width": null,
            "min_height": null,
            "min_width": null,
            "object_fit": null,
            "object_position": null,
            "order": null,
            "overflow": null,
            "overflow_x": null,
            "overflow_y": null,
            "padding": null,
            "right": null,
            "top": null,
            "visibility": null,
            "width": null
          }
        },
        "2974a969d8f645d088525d1fe614ed72": {
          "model_module": "@jupyter-widgets/controls",
          "model_name": "DescriptionStyleModel",
          "model_module_version": "1.5.0",
          "state": {
            "_model_module": "@jupyter-widgets/controls",
            "_model_module_version": "1.5.0",
            "_model_name": "DescriptionStyleModel",
            "_view_count": null,
            "_view_module": "@jupyter-widgets/base",
            "_view_module_version": "1.2.0",
            "_view_name": "StyleView",
            "description_width": ""
          }
        },
        "91360442073240ddab469b816f268d84": {
          "model_module": "@jupyter-widgets/base",
          "model_name": "LayoutModel",
          "model_module_version": "1.2.0",
          "state": {
            "_model_module": "@jupyter-widgets/base",
            "_model_module_version": "1.2.0",
            "_model_name": "LayoutModel",
            "_view_count": null,
            "_view_module": "@jupyter-widgets/base",
            "_view_module_version": "1.2.0",
            "_view_name": "LayoutView",
            "align_content": null,
            "align_items": null,
            "align_self": null,
            "border": null,
            "bottom": null,
            "display": null,
            "flex": null,
            "flex_flow": null,
            "grid_area": null,
            "grid_auto_columns": null,
            "grid_auto_flow": null,
            "grid_auto_rows": null,
            "grid_column": null,
            "grid_gap": null,
            "grid_row": null,
            "grid_template_areas": null,
            "grid_template_columns": null,
            "grid_template_rows": null,
            "height": null,
            "justify_content": null,
            "justify_items": null,
            "left": null,
            "margin": null,
            "max_height": null,
            "max_width": null,
            "min_height": null,
            "min_width": null,
            "object_fit": null,
            "object_position": null,
            "order": null,
            "overflow": null,
            "overflow_x": null,
            "overflow_y": null,
            "padding": null,
            "right": null,
            "top": null,
            "visibility": null,
            "width": null
          }
        },
        "731b0551b5aa44df88304baf28d65f08": {
          "model_module": "@jupyter-widgets/controls",
          "model_name": "ProgressStyleModel",
          "model_module_version": "1.5.0",
          "state": {
            "_model_module": "@jupyter-widgets/controls",
            "_model_module_version": "1.5.0",
            "_model_name": "ProgressStyleModel",
            "_view_count": null,
            "_view_module": "@jupyter-widgets/base",
            "_view_module_version": "1.2.0",
            "_view_name": "StyleView",
            "bar_color": null,
            "description_width": ""
          }
        },
        "2f264d25745d486c87a3bd8859926238": {
          "model_module": "@jupyter-widgets/base",
          "model_name": "LayoutModel",
          "model_module_version": "1.2.0",
          "state": {
            "_model_module": "@jupyter-widgets/base",
            "_model_module_version": "1.2.0",
            "_model_name": "LayoutModel",
            "_view_count": null,
            "_view_module": "@jupyter-widgets/base",
            "_view_module_version": "1.2.0",
            "_view_name": "LayoutView",
            "align_content": null,
            "align_items": null,
            "align_self": null,
            "border": null,
            "bottom": null,
            "display": null,
            "flex": null,
            "flex_flow": null,
            "grid_area": null,
            "grid_auto_columns": null,
            "grid_auto_flow": null,
            "grid_auto_rows": null,
            "grid_column": null,
            "grid_gap": null,
            "grid_row": null,
            "grid_template_areas": null,
            "grid_template_columns": null,
            "grid_template_rows": null,
            "height": null,
            "justify_content": null,
            "justify_items": null,
            "left": null,
            "margin": null,
            "max_height": null,
            "max_width": null,
            "min_height": null,
            "min_width": null,
            "object_fit": null,
            "object_position": null,
            "order": null,
            "overflow": null,
            "overflow_x": null,
            "overflow_y": null,
            "padding": null,
            "right": null,
            "top": null,
            "visibility": null,
            "width": null
          }
        },
        "385813491808466a9767699aacd994bc": {
          "model_module": "@jupyter-widgets/controls",
          "model_name": "DescriptionStyleModel",
          "model_module_version": "1.5.0",
          "state": {
            "_model_module": "@jupyter-widgets/controls",
            "_model_module_version": "1.5.0",
            "_model_name": "DescriptionStyleModel",
            "_view_count": null,
            "_view_module": "@jupyter-widgets/base",
            "_view_module_version": "1.2.0",
            "_view_name": "StyleView",
            "description_width": ""
          }
        },
        "9d0bc13f98df440abc43fc4377f26900": {
          "model_module": "@jupyter-widgets/controls",
          "model_name": "HBoxModel",
          "model_module_version": "1.5.0",
          "state": {
            "_dom_classes": [],
            "_model_module": "@jupyter-widgets/controls",
            "_model_module_version": "1.5.0",
            "_model_name": "HBoxModel",
            "_view_count": null,
            "_view_module": "@jupyter-widgets/controls",
            "_view_module_version": "1.5.0",
            "_view_name": "HBoxView",
            "box_style": "",
            "children": [
              "IPY_MODEL_ef8a64e0827b4086bab1ae3a5e71efa8",
              "IPY_MODEL_695df897a6a14ddb98913805fd585cb6",
              "IPY_MODEL_489bf232b43340e6812d2bf6acd853c3"
            ],
            "layout": "IPY_MODEL_eb7d12be38d946408183bd50f530b3d2"
          }
        },
        "ef8a64e0827b4086bab1ae3a5e71efa8": {
          "model_module": "@jupyter-widgets/controls",
          "model_name": "HTMLModel",
          "model_module_version": "1.5.0",
          "state": {
            "_dom_classes": [],
            "_model_module": "@jupyter-widgets/controls",
            "_model_module_version": "1.5.0",
            "_model_name": "HTMLModel",
            "_view_count": null,
            "_view_module": "@jupyter-widgets/controls",
            "_view_module_version": "1.5.0",
            "_view_name": "HTMLView",
            "description": "",
            "description_tooltip": null,
            "layout": "IPY_MODEL_ea75141cfb944053bda4e2621e9abc5a",
            "placeholder": "​",
            "style": "IPY_MODEL_751e9c78af02437e818694c7add38ec2",
            "value": "Batches: 100%"
          }
        },
        "695df897a6a14ddb98913805fd585cb6": {
          "model_module": "@jupyter-widgets/controls",
          "model_name": "FloatProgressModel",
          "model_module_version": "1.5.0",
          "state": {
            "_dom_classes": [],
            "_model_module": "@jupyter-widgets/controls",
            "_model_module_version": "1.5.0",
            "_model_name": "FloatProgressModel",
            "_view_count": null,
            "_view_module": "@jupyter-widgets/controls",
            "_view_module_version": "1.5.0",
            "_view_name": "ProgressView",
            "bar_style": "success",
            "description": "",
            "description_tooltip": null,
            "layout": "IPY_MODEL_d22e37d458fe4a9cbfbba1ab10659606",
            "max": 1936,
            "min": 0,
            "orientation": "horizontal",
            "style": "IPY_MODEL_a150e65e38964fce990372917ec7e76b",
            "value": 1936
          }
        },
        "489bf232b43340e6812d2bf6acd853c3": {
          "model_module": "@jupyter-widgets/controls",
          "model_name": "HTMLModel",
          "model_module_version": "1.5.0",
          "state": {
            "_dom_classes": [],
            "_model_module": "@jupyter-widgets/controls",
            "_model_module_version": "1.5.0",
            "_model_name": "HTMLModel",
            "_view_count": null,
            "_view_module": "@jupyter-widgets/controls",
            "_view_module_version": "1.5.0",
            "_view_name": "HTMLView",
            "description": "",
            "description_tooltip": null,
            "layout": "IPY_MODEL_8c29fbed85e94aefb567293d5ca9782f",
            "placeholder": "​",
            "style": "IPY_MODEL_2a25e94f563f4d57bb415e1849611a43",
            "value": " 1936/1936 [01:59&lt;00:00, 52.13it/s]"
          }
        },
        "eb7d12be38d946408183bd50f530b3d2": {
          "model_module": "@jupyter-widgets/base",
          "model_name": "LayoutModel",
          "model_module_version": "1.2.0",
          "state": {
            "_model_module": "@jupyter-widgets/base",
            "_model_module_version": "1.2.0",
            "_model_name": "LayoutModel",
            "_view_count": null,
            "_view_module": "@jupyter-widgets/base",
            "_view_module_version": "1.2.0",
            "_view_name": "LayoutView",
            "align_content": null,
            "align_items": null,
            "align_self": null,
            "border": null,
            "bottom": null,
            "display": null,
            "flex": null,
            "flex_flow": null,
            "grid_area": null,
            "grid_auto_columns": null,
            "grid_auto_flow": null,
            "grid_auto_rows": null,
            "grid_column": null,
            "grid_gap": null,
            "grid_row": null,
            "grid_template_areas": null,
            "grid_template_columns": null,
            "grid_template_rows": null,
            "height": null,
            "justify_content": null,
            "justify_items": null,
            "left": null,
            "margin": null,
            "max_height": null,
            "max_width": null,
            "min_height": null,
            "min_width": null,
            "object_fit": null,
            "object_position": null,
            "order": null,
            "overflow": null,
            "overflow_x": null,
            "overflow_y": null,
            "padding": null,
            "right": null,
            "top": null,
            "visibility": null,
            "width": null
          }
        },
        "ea75141cfb944053bda4e2621e9abc5a": {
          "model_module": "@jupyter-widgets/base",
          "model_name": "LayoutModel",
          "model_module_version": "1.2.0",
          "state": {
            "_model_module": "@jupyter-widgets/base",
            "_model_module_version": "1.2.0",
            "_model_name": "LayoutModel",
            "_view_count": null,
            "_view_module": "@jupyter-widgets/base",
            "_view_module_version": "1.2.0",
            "_view_name": "LayoutView",
            "align_content": null,
            "align_items": null,
            "align_self": null,
            "border": null,
            "bottom": null,
            "display": null,
            "flex": null,
            "flex_flow": null,
            "grid_area": null,
            "grid_auto_columns": null,
            "grid_auto_flow": null,
            "grid_auto_rows": null,
            "grid_column": null,
            "grid_gap": null,
            "grid_row": null,
            "grid_template_areas": null,
            "grid_template_columns": null,
            "grid_template_rows": null,
            "height": null,
            "justify_content": null,
            "justify_items": null,
            "left": null,
            "margin": null,
            "max_height": null,
            "max_width": null,
            "min_height": null,
            "min_width": null,
            "object_fit": null,
            "object_position": null,
            "order": null,
            "overflow": null,
            "overflow_x": null,
            "overflow_y": null,
            "padding": null,
            "right": null,
            "top": null,
            "visibility": null,
            "width": null
          }
        },
        "751e9c78af02437e818694c7add38ec2": {
          "model_module": "@jupyter-widgets/controls",
          "model_name": "DescriptionStyleModel",
          "model_module_version": "1.5.0",
          "state": {
            "_model_module": "@jupyter-widgets/controls",
            "_model_module_version": "1.5.0",
            "_model_name": "DescriptionStyleModel",
            "_view_count": null,
            "_view_module": "@jupyter-widgets/base",
            "_view_module_version": "1.2.0",
            "_view_name": "StyleView",
            "description_width": ""
          }
        },
        "d22e37d458fe4a9cbfbba1ab10659606": {
          "model_module": "@jupyter-widgets/base",
          "model_name": "LayoutModel",
          "model_module_version": "1.2.0",
          "state": {
            "_model_module": "@jupyter-widgets/base",
            "_model_module_version": "1.2.0",
            "_model_name": "LayoutModel",
            "_view_count": null,
            "_view_module": "@jupyter-widgets/base",
            "_view_module_version": "1.2.0",
            "_view_name": "LayoutView",
            "align_content": null,
            "align_items": null,
            "align_self": null,
            "border": null,
            "bottom": null,
            "display": null,
            "flex": null,
            "flex_flow": null,
            "grid_area": null,
            "grid_auto_columns": null,
            "grid_auto_flow": null,
            "grid_auto_rows": null,
            "grid_column": null,
            "grid_gap": null,
            "grid_row": null,
            "grid_template_areas": null,
            "grid_template_columns": null,
            "grid_template_rows": null,
            "height": null,
            "justify_content": null,
            "justify_items": null,
            "left": null,
            "margin": null,
            "max_height": null,
            "max_width": null,
            "min_height": null,
            "min_width": null,
            "object_fit": null,
            "object_position": null,
            "order": null,
            "overflow": null,
            "overflow_x": null,
            "overflow_y": null,
            "padding": null,
            "right": null,
            "top": null,
            "visibility": null,
            "width": null
          }
        },
        "a150e65e38964fce990372917ec7e76b": {
          "model_module": "@jupyter-widgets/controls",
          "model_name": "ProgressStyleModel",
          "model_module_version": "1.5.0",
          "state": {
            "_model_module": "@jupyter-widgets/controls",
            "_model_module_version": "1.5.0",
            "_model_name": "ProgressStyleModel",
            "_view_count": null,
            "_view_module": "@jupyter-widgets/base",
            "_view_module_version": "1.2.0",
            "_view_name": "StyleView",
            "bar_color": null,
            "description_width": ""
          }
        },
        "8c29fbed85e94aefb567293d5ca9782f": {
          "model_module": "@jupyter-widgets/base",
          "model_name": "LayoutModel",
          "model_module_version": "1.2.0",
          "state": {
            "_model_module": "@jupyter-widgets/base",
            "_model_module_version": "1.2.0",
            "_model_name": "LayoutModel",
            "_view_count": null,
            "_view_module": "@jupyter-widgets/base",
            "_view_module_version": "1.2.0",
            "_view_name": "LayoutView",
            "align_content": null,
            "align_items": null,
            "align_self": null,
            "border": null,
            "bottom": null,
            "display": null,
            "flex": null,
            "flex_flow": null,
            "grid_area": null,
            "grid_auto_columns": null,
            "grid_auto_flow": null,
            "grid_auto_rows": null,
            "grid_column": null,
            "grid_gap": null,
            "grid_row": null,
            "grid_template_areas": null,
            "grid_template_columns": null,
            "grid_template_rows": null,
            "height": null,
            "justify_content": null,
            "justify_items": null,
            "left": null,
            "margin": null,
            "max_height": null,
            "max_width": null,
            "min_height": null,
            "min_width": null,
            "object_fit": null,
            "object_position": null,
            "order": null,
            "overflow": null,
            "overflow_x": null,
            "overflow_y": null,
            "padding": null,
            "right": null,
            "top": null,
            "visibility": null,
            "width": null
          }
        },
        "2a25e94f563f4d57bb415e1849611a43": {
          "model_module": "@jupyter-widgets/controls",
          "model_name": "DescriptionStyleModel",
          "model_module_version": "1.5.0",
          "state": {
            "_model_module": "@jupyter-widgets/controls",
            "_model_module_version": "1.5.0",
            "_model_name": "DescriptionStyleModel",
            "_view_count": null,
            "_view_module": "@jupyter-widgets/base",
            "_view_module_version": "1.2.0",
            "_view_name": "StyleView",
            "description_width": ""
          }
        }
      }
    }
  },
  "nbformat": 4,
  "nbformat_minor": 5
}
